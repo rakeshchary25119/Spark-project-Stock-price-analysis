{
 "cells": [
  {
   "cell_type": "markdown",
   "id": "c85a20bb-6304-4ace-9ab9-7ca1bf1a1c95",
   "metadata": {},
   "source": [
    "## Stock price analysis using Spark"
   ]
  },
  {
   "cell_type": "code",
   "execution_count": 1,
   "id": "3ffea32d-1c50-4442-aaf0-b857e9728e7b",
   "metadata": {},
   "outputs": [],
   "source": [
    "#pip install pandas numpy matplotlib "
   ]
  },
  {
   "cell_type": "code",
   "execution_count": 81,
   "id": "00ed99f0-573b-4810-8a03-ecdc95839d28",
   "metadata": {},
   "outputs": [],
   "source": [
    "import pyspark\n",
    "from pyspark.sql import SparkSession"
   ]
  },
  {
   "cell_type": "code",
   "execution_count": 82,
   "id": "8edb76ee-0662-4ae0-b524-04ddec9b1be0",
   "metadata": {},
   "outputs": [],
   "source": [
    "# Creating a SparkSession\n",
    "spark = SparkSession.builder.appName(\"Stock Price Analysis using Spark\").getOrCreate()"
   ]
  },
  {
   "cell_type": "code",
   "execution_count": 83,
   "id": "cbe69f0f-72a1-4919-bce8-94466f0b2972",
   "metadata": {},
   "outputs": [],
   "source": [
    "#Reading the Stocks data \n",
    "stocks = spark.read.csv(\"StockData\", header=True)\n"
   ]
  },
  {
   "cell_type": "code",
   "execution_count": 84,
   "id": "f2fa3a66-bb94-4893-9739-131759cf012b",
   "metadata": {},
   "outputs": [
    {
     "name": "stdout",
     "output_type": "stream",
     "text": [
      "+------+----------+----------+-------+--------+--------+--------+\n",
      "|Ticker|      Date|Close/Last| Volume|    Open|    High|     Low|\n",
      "+------+----------+----------+-------+--------+--------+--------+\n",
      "| BRK-B|05/31/2023|  $321.08 |6175417|$321.12 |$322.41 |$319.39 |\n",
      "| BRK-B|05/30/2023|  $322.19 |3232461|$321.86 |$322.47 |$319.00 |\n",
      "| BRK-B|05/26/2023|  $320.60 |3229873|$320.44 |$322.63 |$319.67 |\n",
      "| BRK-B|05/25/2023|  $319.02 |4251935|$320.56 |$320.56 |$317.71 |\n",
      "| BRK-B|05/24/2023|  $320.20 |3075393|$322.71 |$323.00 |$319.56 |\n",
      "+------+----------+----------+-------+--------+--------+--------+\n",
      "only showing top 5 rows\n",
      "\n"
     ]
    }
   ],
   "source": [
    "# Displaiyng the header of the data\n",
    "stocks.show(5)"
   ]
  },
  {
   "cell_type": "code",
   "execution_count": 85,
   "id": "498abc41-4c1f-4041-9c4c-a87b0e72652e",
   "metadata": {},
   "outputs": [
    {
     "name": "stdout",
     "output_type": "stream",
     "text": [
      "root\n",
      " |-- Ticker: string (nullable = true)\n",
      " |-- Date: string (nullable = true)\n",
      " |-- Close/Last: string (nullable = true)\n",
      " |-- Volume: string (nullable = true)\n",
      " |-- Open: string (nullable = true)\n",
      " |-- High: string (nullable = true)\n",
      " |-- Low: string (nullable = true)\n",
      "\n"
     ]
    }
   ],
   "source": [
    "# Printing the Schema of the Data\n",
    "stocks.printSchema()"
   ]
  },
  {
   "cell_type": "code",
   "execution_count": 86,
   "id": "f26cf00f-6406-4b0c-9d06-cc0043731d7b",
   "metadata": {},
   "outputs": [
    {
     "name": "stdout",
     "output_type": "stream",
     "text": [
      "+------+\n",
      "|Ticker|\n",
      "+------+\n",
      "| BRK-B|\n",
      "| BRK-B|\n",
      "| BRK-B|\n",
      "| BRK-B|\n",
      "| BRK-B|\n",
      "+------+\n",
      "only showing top 5 rows\n",
      "\n"
     ]
    }
   ],
   "source": [
    "# Select Data from selected Columns\n",
    "stocks.select(\"Ticker\").show(5)"
   ]
  },
  {
   "cell_type": "code",
   "execution_count": 87,
   "id": "93bd172e-95b5-4f4e-8bbc-f36fdeb3f713",
   "metadata": {},
   "outputs": [
    {
     "name": "stdout",
     "output_type": "stream",
     "text": [
      "+------+----------+\n",
      "|Ticker|      Date|\n",
      "+------+----------+\n",
      "| BRK-B|05/31/2023|\n",
      "| BRK-B|05/30/2023|\n",
      "| BRK-B|05/26/2023|\n",
      "| BRK-B|05/25/2023|\n",
      "| BRK-B|05/24/2023|\n",
      "+------+----------+\n",
      "only showing top 5 rows\n",
      "\n"
     ]
    }
   ],
   "source": [
    "stocks.select([\"Ticker\", \"Date\"]).show(5)"
   ]
  },
  {
   "cell_type": "code",
   "execution_count": 88,
   "id": "49f521d9-b409-4ebe-b9b8-d935804d0d33",
   "metadata": {},
   "outputs": [
    {
     "name": "stdout",
     "output_type": "stream",
     "text": [
      "+------+\n",
      "|Ticker|\n",
      "+------+\n",
      "| BRK-B|\n",
      "|  MSFT|\n",
      "|  META|\n",
      "|  TSLA|\n",
      "|  AAPL|\n",
      "|  AMZN|\n",
      "| GOOGL|\n",
      "|  NVDA|\n",
      "|   TSM|\n",
      "|     V|\n",
      "|   QQQ|\n",
      "|   SPY|\n",
      "+------+\n",
      "\n"
     ]
    }
   ],
   "source": [
    "# Fetching all unique values from Ticker Column\n",
    "stocks.select(\"Ticker\").distinct().show()"
   ]
  },
  {
   "cell_type": "code",
   "execution_count": 80,
   "id": "c3c048e3-cd68-4d6e-afcd-4d7adb3afa61",
   "metadata": {},
   "outputs": [
    {
     "name": "stdout",
     "output_type": "stream",
     "text": [
      "CodeCache: size=131072Kb used=39687Kb max_used=40256Kb free=91384Kb\n",
      " bounds [0x0000000104cf0000, 0x0000000107480000, 0x000000010ccf0000]\n",
      " total_blobs=14286 nmethods=13344 adapters=853\n",
      " compilation: disabled (not enough contiguous free space left)\n",
      "+------+----------+----------+--------+--------+--------+--------+\n",
      "|Ticker|      Date|Close/Last|  Volume|    Open|    High|     Low|\n",
      "+------+----------+----------+--------+--------+--------+--------+\n",
      "|  MSFT|05/31/2023|  $328.39 |45950550|$332.29 |$335.94 |$327.33 |\n",
      "|     V|05/31/2023|  $221.03 |20460620|$219.96 |$221.53 |$216.14 |\n",
      "+------+----------+----------+--------+--------+--------+--------+\n",
      "\n",
      "+------+----------+----------+--------+--------+--------+--------+\n",
      "|Ticker|      Date|Close/Last|  Volume|    Open|    High|     Low|\n",
      "+------+----------+----------+--------+--------+--------+--------+\n",
      "|  MSFT|05/30/2023|  $331.21 |29503070|$335.23 |$335.74 |$330.52 |\n",
      "|  AMZN|05/30/2023|  $121.66 |64314810|$122.37 |$122.92 |$119.86 |\n",
      "|     V|05/30/2023|  $221.64 | 6916013|$225.01 |$225.47 |$219.75 |\n",
      "+------+----------+----------+--------+--------+--------+--------+\n",
      "\n"
     ]
    },
    {
     "name": "stderr",
     "output_type": "stream",
     "text": [
      "Java HotSpot(TM) 64-Bit Server VM warning: CodeCache is full. Compiler has been disabled.\n",
      "Java HotSpot(TM) 64-Bit Server VM warning: Try increasing the code cache size using -XX:ReservedCodeCacheSize=\n"
     ]
    }
   ],
   "source": [
    "# Filtering Data => Select rows containing Microsoft Stocks in the last one month\n",
    "from pyspark.sql import functions as F\n",
    "\n",
    "# microsoftStocks = stocks.filter(stocks.Ticker == 'MSFT')\n",
    "# microsoftStocksLastMonth = microsoftStocks.filter(microsoftStocks[\"Date\"] == '05/23/2023').show()\n",
    "#### OR ####\n",
    "\n",
    "microsoftStocksLastMonth = stocks.filter(\n",
    "    ((stocks.Ticker == 'MSFT') | (stocks.Ticker == 'V')) &\n",
    "    (stocks[\"Date\"] == '05/31/2023')\n",
    ").show(15)\n",
    "\n",
    "### OR ###\n",
    "\n",
    "# stocksIn = stocks.filter(\n",
    "#     (stocks.Ticker.isin([\"MSFT\", \"AMZN\", 'V']))  &\n",
    "#     (stocks[\"Date\"] == '05/30/2023')).show()"
   ]
  },
  {
   "cell_type": "code",
   "execution_count": null,
   "id": "15c4f655-2a46-4301-ba03-51102a33c00c",
   "metadata": {},
   "outputs": [],
   "source": []
  },
  {
   "cell_type": "code",
   "execution_count": null,
   "id": "4544215b-0c5e-4fe1-9b22-ef16c3020dca",
   "metadata": {},
   "outputs": [],
   "source": []
  }
 ],
 "metadata": {
  "kernelspec": {
   "display_name": "Python 3 (ipykernel)",
   "language": "python",
   "name": "python3"
  },
  "language_info": {
   "codemirror_mode": {
    "name": "ipython",
    "version": 3
   },
   "file_extension": ".py",
   "mimetype": "text/x-python",
   "name": "python",
   "nbconvert_exporter": "python",
   "pygments_lexer": "ipython3",
   "version": "3.9.6"
  }
 },
 "nbformat": 4,
 "nbformat_minor": 5
}
