{
 "cells": [
  {
   "cell_type": "markdown",
   "id": "c85a20bb-6304-4ace-9ab9-7ca1bf1a1c95",
   "metadata": {},
   "source": [
    "## Stock price analysis using Spark"
   ]
  },
  {
   "cell_type": "code",
   "execution_count": 1,
   "id": "3ffea32d-1c50-4442-aaf0-b857e9728e7b",
   "metadata": {},
   "outputs": [],
   "source": [
    "#pip install pandas numpy matplotlib "
   ]
  },
  {
   "cell_type": "code",
   "execution_count": 40,
   "id": "00ed99f0-573b-4810-8a03-ecdc95839d28",
   "metadata": {},
   "outputs": [],
   "source": [
    "import pyspark\n",
    "from pyspark.sql import SparkSession\n",
    "from datetime import datetime\n",
    "from pyspark.sql.functions import udf\n",
    "from pyspark.sql.types import StringType, DateType, FloatType"
   ]
  },
  {
   "cell_type": "code",
   "execution_count": 41,
   "id": "8edb76ee-0662-4ae0-b524-04ddec9b1be0",
   "metadata": {},
   "outputs": [],
   "source": [
    "# Creating a SparkSession\n",
    "spark = SparkSession.builder.appName(\"Stock Price Analysis using Spark\").getOrCreate()"
   ]
  },
  {
   "cell_type": "code",
   "execution_count": 42,
   "id": "cbe69f0f-72a1-4919-bce8-94466f0b2972",
   "metadata": {},
   "outputs": [],
   "source": [
    "#Reading the Stocks data \n",
    "stocks = spark.read.csv(\"StockData\", header=True)\n"
   ]
  },
  {
   "cell_type": "code",
   "execution_count": 43,
   "id": "f2fa3a66-bb94-4893-9739-131759cf012b",
   "metadata": {},
   "outputs": [
    {
     "name": "stdout",
     "output_type": "stream",
     "text": [
      "+------+----------+----------+-------+--------+--------+--------+\n",
      "|Ticker|      Date|Close/Last| Volume|    Open|    High|     Low|\n",
      "+------+----------+----------+-------+--------+--------+--------+\n",
      "| BRK-B|05/31/2023|  $321.08 |6175417|$321.12 |$322.41 |$319.39 |\n",
      "| BRK-B|05/30/2023|  $322.19 |3232461|$321.86 |$322.47 |$319.00 |\n",
      "| BRK-B|05/26/2023|  $320.60 |3229873|$320.44 |$322.63 |$319.67 |\n",
      "| BRK-B|05/25/2023|  $319.02 |4251935|$320.56 |$320.56 |$317.71 |\n",
      "| BRK-B|05/24/2023|  $320.20 |3075393|$322.71 |$323.00 |$319.56 |\n",
      "+------+----------+----------+-------+--------+--------+--------+\n",
      "only showing top 5 rows\n",
      "\n"
     ]
    }
   ],
   "source": [
    "# Displaiyng the header of the data\n",
    "stocks.show(5)"
   ]
  },
  {
   "cell_type": "code",
   "execution_count": 44,
   "id": "498abc41-4c1f-4041-9c4c-a87b0e72652e",
   "metadata": {},
   "outputs": [
    {
     "name": "stdout",
     "output_type": "stream",
     "text": [
      "root\n",
      " |-- Ticker: string (nullable = true)\n",
      " |-- Date: string (nullable = true)\n",
      " |-- Close/Last: string (nullable = true)\n",
      " |-- Volume: string (nullable = true)\n",
      " |-- Open: string (nullable = true)\n",
      " |-- High: string (nullable = true)\n",
      " |-- Low: string (nullable = true)\n",
      "\n"
     ]
    }
   ],
   "source": [
    "# Printing the Schema of the Data\n",
    "stocks.printSchema()"
   ]
  },
  {
   "cell_type": "code",
   "execution_count": 45,
   "id": "f26cf00f-6406-4b0c-9d06-cc0043731d7b",
   "metadata": {},
   "outputs": [
    {
     "name": "stdout",
     "output_type": "stream",
     "text": [
      "+------+\n",
      "|Ticker|\n",
      "+------+\n",
      "| BRK-B|\n",
      "| BRK-B|\n",
      "| BRK-B|\n",
      "| BRK-B|\n",
      "| BRK-B|\n",
      "+------+\n",
      "only showing top 5 rows\n",
      "\n"
     ]
    }
   ],
   "source": [
    "# Select Data from selected Columns\n",
    "stocks.select(\"Ticker\").show(5)"
   ]
  },
  {
   "cell_type": "code",
   "execution_count": 46,
   "id": "93bd172e-95b5-4f4e-8bbc-f36fdeb3f713",
   "metadata": {},
   "outputs": [
    {
     "name": "stdout",
     "output_type": "stream",
     "text": [
      "+------+----------+\n",
      "|Ticker|      Date|\n",
      "+------+----------+\n",
      "| BRK-B|05/31/2023|\n",
      "| BRK-B|05/30/2023|\n",
      "| BRK-B|05/26/2023|\n",
      "| BRK-B|05/25/2023|\n",
      "| BRK-B|05/24/2023|\n",
      "+------+----------+\n",
      "only showing top 5 rows\n",
      "\n"
     ]
    }
   ],
   "source": [
    "stocks.select([\"Ticker\", \"Date\"]).show(5)"
   ]
  },
  {
   "cell_type": "code",
   "execution_count": 47,
   "id": "49f521d9-b409-4ebe-b9b8-d935804d0d33",
   "metadata": {},
   "outputs": [
    {
     "name": "stdout",
     "output_type": "stream",
     "text": [
      "+------+\n",
      "|Ticker|\n",
      "+------+\n",
      "| BRK-B|\n",
      "|  MSFT|\n",
      "|  META|\n",
      "|  TSLA|\n",
      "|  AAPL|\n",
      "|  AMZN|\n",
      "| GOOGL|\n",
      "|  NVDA|\n",
      "|   TSM|\n",
      "|     V|\n",
      "|   QQQ|\n",
      "|   SPY|\n",
      "+------+\n",
      "\n"
     ]
    }
   ],
   "source": [
    "# Fetching all unique values from Ticker Column\n",
    "stocks.select(\"Ticker\").distinct().show()"
   ]
  },
  {
   "cell_type": "code",
   "execution_count": 48,
   "id": "c3c048e3-cd68-4d6e-afcd-4d7adb3afa61",
   "metadata": {},
   "outputs": [
    {
     "name": "stdout",
     "output_type": "stream",
     "text": [
      "+------+----------+----------+--------+--------+--------+--------+\n",
      "|Ticker|      Date|Close/Last|  Volume|    Open|    High|     Low|\n",
      "+------+----------+----------+--------+--------+--------+--------+\n",
      "|  MSFT|05/31/2023|  $328.39 |45950550|$332.29 |$335.94 |$327.33 |\n",
      "|     V|05/31/2023|  $221.03 |20460620|$219.96 |$221.53 |$216.14 |\n",
      "+------+----------+----------+--------+--------+--------+--------+\n",
      "\n"
     ]
    }
   ],
   "source": [
    "# Filtering Data => Select rows containing Microsoft Stocks in the last one month\n",
    "from pyspark.sql import functions as F\n",
    "\n",
    "# microsoftStocks = stocks.filter(stocks.Ticker == 'MSFT')\n",
    "# microsoftStocksLastMonth = microsoftStocks.filter(microsoftStocks[\"Date\"] == '05/23/2023').show()\n",
    "#### OR ####\n",
    "\n",
    "microsoftStocksLastMonth = stocks.filter(\n",
    "    ((stocks.Ticker == 'MSFT') | (stocks.Ticker == 'V')) &\n",
    "    (stocks[\"Date\"] == '05/31/2023')\n",
    ").show(15)\n",
    "\n",
    "### OR ###\n",
    "\n",
    "# stocksIn = stocks.filter(\n",
    "#     (stocks.Ticker.isin([\"MSFT\", \"AMZN\", 'V']))  &\n",
    "#     (stocks[\"Date\"] == '05/30/2023')).show()"
   ]
  },
  {
   "cell_type": "code",
   "execution_count": 49,
   "id": "15b1ed73-65f7-4a3e-a734-d01c8de2fd68",
   "metadata": {},
   "outputs": [],
   "source": [
    "## Create an UDF to change StringType of Date column to DateType\n",
    "date_parser = udf(lambda date: datetime.strptime(date, \"%m/%d/%Y\"), DateType())"
   ]
  },
  {
   "cell_type": "code",
   "execution_count": 50,
   "id": "6a1affdd-3dc1-465d-9485-0b58a00866eb",
   "metadata": {},
   "outputs": [],
   "source": [
    "stocks = stocks.withColumn(\"ParsedDate\", date_parser(stocks.Date))"
   ]
  },
  {
   "cell_type": "code",
   "execution_count": 52,
   "id": "64f71ebb-137c-428b-ad6c-2b743e5adfcb",
   "metadata": {},
   "outputs": [
    {
     "name": "stdout",
     "output_type": "stream",
     "text": [
      "+------+----------+----------+-------+--------+--------+--------+----------+\n",
      "|Ticker|      Date|Close/Last| Volume|    Open|    High|     Low|ParsedDate|\n",
      "+------+----------+----------+-------+--------+--------+--------+----------+\n",
      "| BRK-B|05/31/2023|  $321.08 |6175417|$321.12 |$322.41 |$319.39 |2023-05-31|\n",
      "| BRK-B|05/30/2023|  $322.19 |3232461|$321.86 |$322.47 |$319.00 |2023-05-30|\n",
      "| BRK-B|05/26/2023|  $320.60 |3229873|$320.44 |$322.63 |$319.67 |2023-05-26|\n",
      "| BRK-B|05/25/2023|  $319.02 |4251935|$320.56 |$320.56 |$317.71 |2023-05-25|\n",
      "| BRK-B|05/24/2023|  $320.20 |3075393|$322.71 |$323.00 |$319.56 |2023-05-24|\n",
      "+------+----------+----------+-------+--------+--------+--------+----------+\n",
      "only showing top 5 rows\n",
      "\n"
     ]
    }
   ],
   "source": [
    "stocks.show(5)"
   ]
  },
  {
   "cell_type": "code",
   "execution_count": 53,
   "id": "db25a076-2bdc-4435-9fee-37320a0a5790",
   "metadata": {},
   "outputs": [
    {
     "name": "stdout",
     "output_type": "stream",
     "text": [
      "root\n",
      " |-- Ticker: string (nullable = true)\n",
      " |-- Date: string (nullable = true)\n",
      " |-- Close/Last: string (nullable = true)\n",
      " |-- Volume: string (nullable = true)\n",
      " |-- Open: string (nullable = true)\n",
      " |-- High: string (nullable = true)\n",
      " |-- Low: string (nullable = true)\n",
      " |-- ParsedDate: date (nullable = true)\n",
      "\n"
     ]
    }
   ],
   "source": [
    "stocks.printSchema()"
   ]
  },
  {
   "cell_type": "code",
   "execution_count": 54,
   "id": "1fd0a427-d61c-40e9-8a8a-da7c56c152b1",
   "metadata": {},
   "outputs": [
    {
     "name": "stdout",
     "output_type": "stream",
     "text": [
      "222.2\n"
     ]
    }
   ],
   "source": [
    "## remove the dollar symbol and convert it into float if it is string, leave float and int as is and return None else\n",
    "\n",
    "def num_parser(value):\n",
    "    if isinstance(value, str):\n",
    "        return float(value.strip(\"$\"))\n",
    "    elif isinstance(value, float) or isinstance(value, int):\n",
    "        return value\n",
    "    else:\n",
    "        None\n",
    "print(num_parser('$222.2'))"
   ]
  },
  {
   "cell_type": "code",
   "execution_count": 55,
   "id": "8acf9988-fc11-445e-8e79-f6143dd6cd17",
   "metadata": {},
   "outputs": [],
   "source": [
    "number_parser = udf(num_parser, FloatType())"
   ]
  },
  {
   "cell_type": "code",
   "execution_count": 58,
   "id": "52025fd5-55fd-45e8-a351-c286c50b5d1c",
   "metadata": {},
   "outputs": [],
   "source": [
    "stocks = (stocks.withColumn(\"Close\", number_parser(stocks[\"Close/Last\"]))\n",
    "                 .withColumn(\"Open\", number_parser(stocks[\"Open\"]))\n",
    "                 .withColumn(\"High\", number_parser(stocks[\"High\"]))\n",
    "                 .withColumn(\"Low\", number_parser(stocks[\"Low\"])))"
   ]
  },
  {
   "cell_type": "code",
   "execution_count": 59,
   "id": "9abd47db-d1f3-4d29-bd22-a03a8a0ec3ea",
   "metadata": {},
   "outputs": [
    {
     "name": "stdout",
     "output_type": "stream",
     "text": [
      "+------+----------+----------+-------+------+------+------+----------+------+\n",
      "|Ticker|      Date|Close/Last| Volume|  Open|  High|   Low|ParsedDate| Close|\n",
      "+------+----------+----------+-------+------+------+------+----------+------+\n",
      "| BRK-B|05/31/2023|  $321.08 |6175417|321.12|322.41|319.39|2023-05-31|321.08|\n",
      "| BRK-B|05/30/2023|  $322.19 |3232461|321.86|322.47| 319.0|2023-05-30|322.19|\n",
      "| BRK-B|05/26/2023|  $320.60 |3229873|320.44|322.63|319.67|2023-05-26| 320.6|\n",
      "| BRK-B|05/25/2023|  $319.02 |4251935|320.56|320.56|317.71|2023-05-25|319.02|\n",
      "| BRK-B|05/24/2023|  $320.20 |3075393|322.71| 323.0|319.56|2023-05-24| 320.2|\n",
      "+------+----------+----------+-------+------+------+------+----------+------+\n",
      "only showing top 5 rows\n",
      "\n"
     ]
    }
   ],
   "source": [
    "stocks.show(5)"
   ]
  },
  {
   "cell_type": "code",
   "execution_count": 60,
   "id": "bdf60cdb-d8af-478a-94f2-a043eb919377",
   "metadata": {},
   "outputs": [
    {
     "name": "stdout",
     "output_type": "stream",
     "text": [
      "root\n",
      " |-- Ticker: string (nullable = true)\n",
      " |-- Date: string (nullable = true)\n",
      " |-- Close/Last: string (nullable = true)\n",
      " |-- Volume: string (nullable = true)\n",
      " |-- Open: float (nullable = true)\n",
      " |-- High: float (nullable = true)\n",
      " |-- Low: float (nullable = true)\n",
      " |-- ParsedDate: date (nullable = true)\n",
      " |-- Close: float (nullable = true)\n",
      "\n"
     ]
    }
   ],
   "source": [
    "stocks.printSchema()"
   ]
  },
  {
   "cell_type": "code",
   "execution_count": 62,
   "id": "1718bb87-fe55-41e3-a80a-975d929ea87a",
   "metadata": {},
   "outputs": [],
   "source": [
    "## Conveting Volume datatype form String to IntegerType\n",
    "from pyspark.sql.types import IntegerType\n",
    "int_parser = udf(lambda x: int(x), IntegerType())"
   ]
  },
  {
   "cell_type": "code",
   "execution_count": 66,
   "id": "3f46f22d-f319-4c14-8305-6c2f9ab3d25d",
   "metadata": {},
   "outputs": [],
   "source": [
    "stocks = stocks.withColumn(\"Volume\", int_parser(stocks.Volume))"
   ]
  },
  {
   "cell_type": "code",
   "execution_count": 67,
   "id": "ea814122-35e9-4afc-ac5a-36863f70608b",
   "metadata": {},
   "outputs": [
    {
     "name": "stdout",
     "output_type": "stream",
     "text": [
      "+------+----------+----------+-------+------+------+------+----------+------+\n",
      "|Ticker|      Date|Close/Last| Volume|  Open|  High|   Low|ParsedDate| Close|\n",
      "+------+----------+----------+-------+------+------+------+----------+------+\n",
      "| BRK-B|05/31/2023|  $321.08 |6175417|321.12|322.41|319.39|2023-05-31|321.08|\n",
      "| BRK-B|05/30/2023|  $322.19 |3232461|321.86|322.47| 319.0|2023-05-30|322.19|\n",
      "| BRK-B|05/26/2023|  $320.60 |3229873|320.44|322.63|319.67|2023-05-26| 320.6|\n",
      "| BRK-B|05/25/2023|  $319.02 |4251935|320.56|320.56|317.71|2023-05-25|319.02|\n",
      "| BRK-B|05/24/2023|  $320.20 |3075393|322.71| 323.0|319.56|2023-05-24| 320.2|\n",
      "+------+----------+----------+-------+------+------+------+----------+------+\n",
      "only showing top 5 rows\n",
      "\n"
     ]
    }
   ],
   "source": [
    "stocks.show(5)"
   ]
  },
  {
   "cell_type": "code",
   "execution_count": 68,
   "id": "e7fdd53b-3434-45fb-a1ac-9191ea305733",
   "metadata": {},
   "outputs": [
    {
     "name": "stdout",
     "output_type": "stream",
     "text": [
      "root\n",
      " |-- Ticker: string (nullable = true)\n",
      " |-- Date: string (nullable = true)\n",
      " |-- Close/Last: string (nullable = true)\n",
      " |-- Volume: integer (nullable = true)\n",
      " |-- Open: float (nullable = true)\n",
      " |-- High: float (nullable = true)\n",
      " |-- Low: float (nullable = true)\n",
      " |-- ParsedDate: date (nullable = true)\n",
      " |-- Close: float (nullable = true)\n",
      "\n"
     ]
    }
   ],
   "source": [
    "stocks.printSchema()"
   ]
  },
  {
   "cell_type": "code",
   "execution_count": 71,
   "id": "e04deace-72c3-4349-b447-6b41a9c91e11",
   "metadata": {},
   "outputs": [],
   "source": [
    "## Selecting only required Columns\n",
    "\n",
    "cleaned_stocks = stocks[[\"Ticker\", \"ParsedDate\",\"Close\", \"Volume\", \"Open\", \"High\", \"Low\"]]"
   ]
  },
  {
   "cell_type": "code",
   "execution_count": 72,
   "id": "f8a6729c-1d5c-4bcd-b28e-8b8687e260a9",
   "metadata": {},
   "outputs": [
    {
     "name": "stdout",
     "output_type": "stream",
     "text": [
      "root\n",
      " |-- Ticker: string (nullable = true)\n",
      " |-- ParsedDate: date (nullable = true)\n",
      " |-- Close: float (nullable = true)\n",
      " |-- Volume: integer (nullable = true)\n",
      " |-- Open: float (nullable = true)\n",
      " |-- High: float (nullable = true)\n",
      " |-- Low: float (nullable = true)\n",
      "\n"
     ]
    }
   ],
   "source": [
    "cleaned_stocks.printSchema()"
   ]
  },
  {
   "cell_type": "code",
   "execution_count": 77,
   "id": "afb1fb64-d022-450c-ba3a-a65867ab3adf",
   "metadata": {},
   "outputs": [
    {
     "name": "stdout",
     "output_type": "stream",
     "text": [
      "+-------+------------------+------------------+--------------------+------------------+------------------+\n",
      "|summary|             Close|              Open|              Volume|              High|               Low|\n",
      "+-------+------------------+------------------+--------------------+------------------+------------------+\n",
      "|  count|             15108|             15108|               15108|             15108|             15108|\n",
      "|   mean| 180.1256089860054|180.09656566181036|5.1868408793685466E7| 182.1253348687101| 177.9982781513109|\n",
      "| stddev|101.14891782168517|101.16125813324396| 5.496484129953463E7|101.96625521621728|100.26590135955209|\n",
      "|    min|             11.93|             12.07|              961133|             12.45|              11.8|\n",
      "|    max|            477.71|            479.22|           914080943|            479.98|            476.06|\n",
      "+-------+------------------+------------------+--------------------+------------------+------------------+\n",
      "\n"
     ]
    }
   ],
   "source": [
    "## Calculating basic statistics of the cleaned Stocks Data\n",
    "\n",
    "cleaned_stocks[[\"Close\", \"Open\", \"Volume\", \"High\", \"Low\"]].describe().show()"
   ]
  },
  {
   "cell_type": "code",
   "execution_count": null,
   "id": "90b1b462-27c0-4888-893a-456a3d9335d6",
   "metadata": {},
   "outputs": [],
   "source": []
  }
 ],
 "metadata": {
  "kernelspec": {
   "display_name": "Python 3 (ipykernel)",
   "language": "python",
   "name": "python3"
  },
  "language_info": {
   "codemirror_mode": {
    "name": "ipython",
    "version": 3
   },
   "file_extension": ".py",
   "mimetype": "text/x-python",
   "name": "python",
   "nbconvert_exporter": "python",
   "pygments_lexer": "ipython3",
   "version": "3.9.6"
  }
 },
 "nbformat": 4,
 "nbformat_minor": 5
}
