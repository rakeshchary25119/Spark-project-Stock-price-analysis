{
 "cells": [
  {
   "cell_type": "markdown",
   "id": "c85a20bb-6304-4ace-9ab9-7ca1bf1a1c95",
   "metadata": {},
   "source": [
    "## Stock price analysis using Spark"
   ]
  },
  {
   "cell_type": "code",
   "execution_count": 1,
   "id": "3ffea32d-1c50-4442-aaf0-b857e9728e7b",
   "metadata": {},
   "outputs": [],
   "source": [
    "#pip install pandas numpy matplotlib "
   ]
  },
  {
   "cell_type": "code",
   "execution_count": 1,
   "id": "00ed99f0-573b-4810-8a03-ecdc95839d28",
   "metadata": {},
   "outputs": [],
   "source": [
    "import pyspark\n",
    "from pyspark.sql import SparkSession\n",
    "from datetime import datetime\n",
    "from pyspark.sql.functions import udf\n",
    "from pyspark.sql.types import StringType, DateType, FloatType"
   ]
  },
  {
   "cell_type": "markdown",
   "id": "b41883fd-845b-4878-a630-0c796ff3c17e",
   "metadata": {},
   "source": [
    "### 1. Extracting and Filtering Stock Data"
   ]
  },
  {
   "cell_type": "code",
   "execution_count": 2,
   "id": "9ee8353a-5039-44fd-b6fb-55fe7f87f294",
   "metadata": {},
   "outputs": [
    {
     "name": "stderr",
     "output_type": "stream",
     "text": [
      "24/09/14 18:19:52 WARN Utils: Your hostname, Rakeshs-MacBook-Air.local resolves to a loopback address: 127.0.0.1; using 10.0.0.222 instead (on interface en0)\n",
      "24/09/14 18:19:52 WARN Utils: Set SPARK_LOCAL_IP if you need to bind to another address\n",
      "Setting default log level to \"WARN\".\n",
      "To adjust logging level use sc.setLogLevel(newLevel). For SparkR, use setLogLevel(newLevel).\n",
      "24/09/14 18:19:52 WARN NativeCodeLoader: Unable to load native-hadoop library for your platform... using builtin-java classes where applicable\n"
     ]
    }
   ],
   "source": [
    "# Creating a SparkSession\n",
    "spark = SparkSession.builder.appName(\"Stock Price Analysis using Spark\").getOrCreate()"
   ]
  },
  {
   "cell_type": "code",
   "execution_count": 3,
   "id": "cbe69f0f-72a1-4919-bce8-94466f0b2972",
   "metadata": {},
   "outputs": [],
   "source": [
    "#Reading the Stocks data \n",
    "stocks = spark.read.csv(\"StockData\", header=True)\n"
   ]
  },
  {
   "cell_type": "code",
   "execution_count": 4,
   "id": "f2fa3a66-bb94-4893-9739-131759cf012b",
   "metadata": {},
   "outputs": [
    {
     "name": "stdout",
     "output_type": "stream",
     "text": [
      "+------+----------+----------+-------+--------+--------+--------+\n",
      "|Ticker|      Date|Close/Last| Volume|    Open|    High|     Low|\n",
      "+------+----------+----------+-------+--------+--------+--------+\n",
      "| BRK-B|05/31/2023|  $321.08 |6175417|$321.12 |$322.41 |$319.39 |\n",
      "| BRK-B|05/30/2023|  $322.19 |3232461|$321.86 |$322.47 |$319.00 |\n",
      "| BRK-B|05/26/2023|  $320.60 |3229873|$320.44 |$322.63 |$319.67 |\n",
      "| BRK-B|05/25/2023|  $319.02 |4251935|$320.56 |$320.56 |$317.71 |\n",
      "| BRK-B|05/24/2023|  $320.20 |3075393|$322.71 |$323.00 |$319.56 |\n",
      "+------+----------+----------+-------+--------+--------+--------+\n",
      "only showing top 5 rows\n",
      "\n"
     ]
    }
   ],
   "source": [
    "# Displaiyng the header of the data\n",
    "stocks.show(5)"
   ]
  },
  {
   "cell_type": "code",
   "execution_count": 5,
   "id": "498abc41-4c1f-4041-9c4c-a87b0e72652e",
   "metadata": {},
   "outputs": [
    {
     "name": "stdout",
     "output_type": "stream",
     "text": [
      "root\n",
      " |-- Ticker: string (nullable = true)\n",
      " |-- Date: string (nullable = true)\n",
      " |-- Close/Last: string (nullable = true)\n",
      " |-- Volume: string (nullable = true)\n",
      " |-- Open: string (nullable = true)\n",
      " |-- High: string (nullable = true)\n",
      " |-- Low: string (nullable = true)\n",
      "\n"
     ]
    }
   ],
   "source": [
    "# Printing the Schema of the Data\n",
    "stocks.printSchema()"
   ]
  },
  {
   "cell_type": "code",
   "execution_count": 6,
   "id": "f26cf00f-6406-4b0c-9d06-cc0043731d7b",
   "metadata": {},
   "outputs": [
    {
     "name": "stdout",
     "output_type": "stream",
     "text": [
      "+------+\n",
      "|Ticker|\n",
      "+------+\n",
      "| BRK-B|\n",
      "| BRK-B|\n",
      "| BRK-B|\n",
      "| BRK-B|\n",
      "| BRK-B|\n",
      "+------+\n",
      "only showing top 5 rows\n",
      "\n"
     ]
    }
   ],
   "source": [
    "# Select Data from selected Columns\n",
    "stocks.select(\"Ticker\").show(5)"
   ]
  },
  {
   "cell_type": "code",
   "execution_count": 7,
   "id": "93bd172e-95b5-4f4e-8bbc-f36fdeb3f713",
   "metadata": {},
   "outputs": [
    {
     "name": "stdout",
     "output_type": "stream",
     "text": [
      "+------+----------+\n",
      "|Ticker|      Date|\n",
      "+------+----------+\n",
      "| BRK-B|05/31/2023|\n",
      "| BRK-B|05/30/2023|\n",
      "| BRK-B|05/26/2023|\n",
      "| BRK-B|05/25/2023|\n",
      "| BRK-B|05/24/2023|\n",
      "+------+----------+\n",
      "only showing top 5 rows\n",
      "\n"
     ]
    }
   ],
   "source": [
    "stocks.select([\"Ticker\", \"Date\"]).show(5)"
   ]
  },
  {
   "cell_type": "code",
   "execution_count": 8,
   "id": "49f521d9-b409-4ebe-b9b8-d935804d0d33",
   "metadata": {},
   "outputs": [
    {
     "name": "stdout",
     "output_type": "stream",
     "text": [
      "+------+\n",
      "|Ticker|\n",
      "+------+\n",
      "| BRK-B|\n",
      "|  MSFT|\n",
      "|  META|\n",
      "|  TSLA|\n",
      "|  AAPL|\n",
      "|  AMZN|\n",
      "| GOOGL|\n",
      "|  NVDA|\n",
      "|   TSM|\n",
      "|     V|\n",
      "|   QQQ|\n",
      "|   SPY|\n",
      "+------+\n",
      "\n"
     ]
    }
   ],
   "source": [
    "# Fetching all unique values from Ticker Column\n",
    "stocks.select(\"Ticker\").distinct().show()"
   ]
  },
  {
   "cell_type": "code",
   "execution_count": 9,
   "id": "c3c048e3-cd68-4d6e-afcd-4d7adb3afa61",
   "metadata": {},
   "outputs": [
    {
     "name": "stdout",
     "output_type": "stream",
     "text": [
      "+------+----------+----------+--------+--------+--------+--------+\n",
      "|Ticker|      Date|Close/Last|  Volume|    Open|    High|     Low|\n",
      "+------+----------+----------+--------+--------+--------+--------+\n",
      "|  MSFT|05/31/2023|  $328.39 |45950550|$332.29 |$335.94 |$327.33 |\n",
      "|     V|05/31/2023|  $221.03 |20460620|$219.96 |$221.53 |$216.14 |\n",
      "+------+----------+----------+--------+--------+--------+--------+\n",
      "\n"
     ]
    }
   ],
   "source": [
    "# Filtering Data => Select rows containing Microsoft Stocks in the last one month\n",
    "from pyspark.sql import functions as F\n",
    "\n",
    "# microsoftStocks = stocks.filter(stocks.Ticker == 'MSFT')\n",
    "# microsoftStocksLastMonth = microsoftStocks.filter(microsoftStocks[\"Date\"] == '05/23/2023').show()\n",
    "#### OR ####\n",
    "\n",
    "microsoftStocksLastMonth = stocks.filter(\n",
    "    ((stocks.Ticker == 'MSFT') | (stocks.Ticker == 'V')) &\n",
    "    (stocks[\"Date\"] == '05/31/2023')\n",
    ").show(15)\n",
    "\n",
    "### OR ###\n",
    "\n",
    "# stocksIn = stocks.filter(\n",
    "#     (stocks.Ticker.isin([\"MSFT\", \"AMZN\", 'V']))  &\n",
    "#     (stocks[\"Date\"] == '05/30/2023')).show()"
   ]
  },
  {
   "cell_type": "markdown",
   "id": "b2ee2659-5675-49bf-a3d9-0e33a5932c32",
   "metadata": {},
   "source": [
    "### 2.Creating custom UDFs"
   ]
  },
  {
   "cell_type": "code",
   "execution_count": 10,
   "id": "15b1ed73-65f7-4a3e-a734-d01c8de2fd68",
   "metadata": {},
   "outputs": [],
   "source": [
    "## Create an UDF to change StringType of Date column to DateType\n",
    "date_parser = udf(lambda date: datetime.strptime(date, \"%m/%d/%Y\"), DateType())"
   ]
  },
  {
   "cell_type": "code",
   "execution_count": 11,
   "id": "6a1affdd-3dc1-465d-9485-0b58a00866eb",
   "metadata": {},
   "outputs": [],
   "source": [
    "stocks = stocks.withColumn(\"ParsedDate\", date_parser(stocks.Date))"
   ]
  },
  {
   "cell_type": "code",
   "execution_count": 12,
   "id": "64f71ebb-137c-428b-ad6c-2b743e5adfcb",
   "metadata": {},
   "outputs": [
    {
     "name": "stdout",
     "output_type": "stream",
     "text": [
      "+------+----------+----------+-------+--------+--------+--------+----------+\n",
      "|Ticker|      Date|Close/Last| Volume|    Open|    High|     Low|ParsedDate|\n",
      "+------+----------+----------+-------+--------+--------+--------+----------+\n",
      "| BRK-B|05/31/2023|  $321.08 |6175417|$321.12 |$322.41 |$319.39 |2023-05-31|\n",
      "| BRK-B|05/30/2023|  $322.19 |3232461|$321.86 |$322.47 |$319.00 |2023-05-30|\n",
      "| BRK-B|05/26/2023|  $320.60 |3229873|$320.44 |$322.63 |$319.67 |2023-05-26|\n",
      "| BRK-B|05/25/2023|  $319.02 |4251935|$320.56 |$320.56 |$317.71 |2023-05-25|\n",
      "| BRK-B|05/24/2023|  $320.20 |3075393|$322.71 |$323.00 |$319.56 |2023-05-24|\n",
      "+------+----------+----------+-------+--------+--------+--------+----------+\n",
      "only showing top 5 rows\n",
      "\n"
     ]
    }
   ],
   "source": [
    "stocks.show(5)"
   ]
  },
  {
   "cell_type": "code",
   "execution_count": 13,
   "id": "db25a076-2bdc-4435-9fee-37320a0a5790",
   "metadata": {},
   "outputs": [
    {
     "name": "stdout",
     "output_type": "stream",
     "text": [
      "root\n",
      " |-- Ticker: string (nullable = true)\n",
      " |-- Date: string (nullable = true)\n",
      " |-- Close/Last: string (nullable = true)\n",
      " |-- Volume: string (nullable = true)\n",
      " |-- Open: string (nullable = true)\n",
      " |-- High: string (nullable = true)\n",
      " |-- Low: string (nullable = true)\n",
      " |-- ParsedDate: date (nullable = true)\n",
      "\n"
     ]
    }
   ],
   "source": [
    "stocks.printSchema()"
   ]
  },
  {
   "cell_type": "code",
   "execution_count": 14,
   "id": "1fd0a427-d61c-40e9-8a8a-da7c56c152b1",
   "metadata": {},
   "outputs": [
    {
     "name": "stdout",
     "output_type": "stream",
     "text": [
      "222.2\n"
     ]
    }
   ],
   "source": [
    "## remove the dollar symbol and convert it into float if it is string, leave float and int as is and return None else\n",
    "\n",
    "def num_parser(value):\n",
    "    if isinstance(value, str):\n",
    "        return float(value.strip(\"$\"))\n",
    "    elif isinstance(value, float) or isinstance(value, int):\n",
    "        return value\n",
    "    else:\n",
    "        None\n",
    "print(num_parser('$222.2'))"
   ]
  },
  {
   "cell_type": "code",
   "execution_count": 15,
   "id": "8acf9988-fc11-445e-8e79-f6143dd6cd17",
   "metadata": {},
   "outputs": [],
   "source": [
    "number_parser = udf(num_parser, FloatType())"
   ]
  },
  {
   "cell_type": "code",
   "execution_count": 16,
   "id": "52025fd5-55fd-45e8-a351-c286c50b5d1c",
   "metadata": {},
   "outputs": [],
   "source": [
    "stocks = (stocks.withColumn(\"Close\", number_parser(stocks[\"Close/Last\"]))\n",
    "                 .withColumn(\"Open\", number_parser(stocks[\"Open\"]))\n",
    "                 .withColumn(\"High\", number_parser(stocks[\"High\"]))\n",
    "                 .withColumn(\"Low\", number_parser(stocks[\"Low\"])))"
   ]
  },
  {
   "cell_type": "code",
   "execution_count": 17,
   "id": "9abd47db-d1f3-4d29-bd22-a03a8a0ec3ea",
   "metadata": {},
   "outputs": [
    {
     "name": "stdout",
     "output_type": "stream",
     "text": [
      "+------+----------+----------+-------+------+------+------+----------+------+\n",
      "|Ticker|      Date|Close/Last| Volume|  Open|  High|   Low|ParsedDate| Close|\n",
      "+------+----------+----------+-------+------+------+------+----------+------+\n",
      "| BRK-B|05/31/2023|  $321.08 |6175417|321.12|322.41|319.39|2023-05-31|321.08|\n",
      "| BRK-B|05/30/2023|  $322.19 |3232461|321.86|322.47| 319.0|2023-05-30|322.19|\n",
      "| BRK-B|05/26/2023|  $320.60 |3229873|320.44|322.63|319.67|2023-05-26| 320.6|\n",
      "| BRK-B|05/25/2023|  $319.02 |4251935|320.56|320.56|317.71|2023-05-25|319.02|\n",
      "| BRK-B|05/24/2023|  $320.20 |3075393|322.71| 323.0|319.56|2023-05-24| 320.2|\n",
      "+------+----------+----------+-------+------+------+------+----------+------+\n",
      "only showing top 5 rows\n",
      "\n"
     ]
    }
   ],
   "source": [
    "stocks.show(5)"
   ]
  },
  {
   "cell_type": "code",
   "execution_count": 18,
   "id": "bdf60cdb-d8af-478a-94f2-a043eb919377",
   "metadata": {},
   "outputs": [
    {
     "name": "stdout",
     "output_type": "stream",
     "text": [
      "root\n",
      " |-- Ticker: string (nullable = true)\n",
      " |-- Date: string (nullable = true)\n",
      " |-- Close/Last: string (nullable = true)\n",
      " |-- Volume: string (nullable = true)\n",
      " |-- Open: float (nullable = true)\n",
      " |-- High: float (nullable = true)\n",
      " |-- Low: float (nullable = true)\n",
      " |-- ParsedDate: date (nullable = true)\n",
      " |-- Close: float (nullable = true)\n",
      "\n"
     ]
    }
   ],
   "source": [
    "stocks.printSchema()"
   ]
  },
  {
   "cell_type": "code",
   "execution_count": 19,
   "id": "1718bb87-fe55-41e3-a80a-975d929ea87a",
   "metadata": {},
   "outputs": [],
   "source": [
    "## Conveting Volume datatype form String to IntegerType\n",
    "from pyspark.sql.types import IntegerType\n",
    "int_parser = udf(lambda x: int(x), IntegerType())"
   ]
  },
  {
   "cell_type": "code",
   "execution_count": 20,
   "id": "3f46f22d-f319-4c14-8305-6c2f9ab3d25d",
   "metadata": {},
   "outputs": [],
   "source": [
    "stocks = stocks.withColumn(\"Volume\", int_parser(stocks.Volume))"
   ]
  },
  {
   "cell_type": "code",
   "execution_count": 21,
   "id": "ea814122-35e9-4afc-ac5a-36863f70608b",
   "metadata": {},
   "outputs": [
    {
     "name": "stdout",
     "output_type": "stream",
     "text": [
      "+------+----------+----------+-------+------+------+------+----------+------+\n",
      "|Ticker|      Date|Close/Last| Volume|  Open|  High|   Low|ParsedDate| Close|\n",
      "+------+----------+----------+-------+------+------+------+----------+------+\n",
      "| BRK-B|05/31/2023|  $321.08 |6175417|321.12|322.41|319.39|2023-05-31|321.08|\n",
      "| BRK-B|05/30/2023|  $322.19 |3232461|321.86|322.47| 319.0|2023-05-30|322.19|\n",
      "| BRK-B|05/26/2023|  $320.60 |3229873|320.44|322.63|319.67|2023-05-26| 320.6|\n",
      "| BRK-B|05/25/2023|  $319.02 |4251935|320.56|320.56|317.71|2023-05-25|319.02|\n",
      "| BRK-B|05/24/2023|  $320.20 |3075393|322.71| 323.0|319.56|2023-05-24| 320.2|\n",
      "+------+----------+----------+-------+------+------+------+----------+------+\n",
      "only showing top 5 rows\n",
      "\n"
     ]
    }
   ],
   "source": [
    "stocks.show(5)"
   ]
  },
  {
   "cell_type": "code",
   "execution_count": 22,
   "id": "e7fdd53b-3434-45fb-a1ac-9191ea305733",
   "metadata": {},
   "outputs": [
    {
     "name": "stdout",
     "output_type": "stream",
     "text": [
      "root\n",
      " |-- Ticker: string (nullable = true)\n",
      " |-- Date: string (nullable = true)\n",
      " |-- Close/Last: string (nullable = true)\n",
      " |-- Volume: integer (nullable = true)\n",
      " |-- Open: float (nullable = true)\n",
      " |-- High: float (nullable = true)\n",
      " |-- Low: float (nullable = true)\n",
      " |-- ParsedDate: date (nullable = true)\n",
      " |-- Close: float (nullable = true)\n",
      "\n"
     ]
    }
   ],
   "source": [
    "stocks.printSchema()"
   ]
  },
  {
   "cell_type": "code",
   "execution_count": 23,
   "id": "e04deace-72c3-4349-b447-6b41a9c91e11",
   "metadata": {},
   "outputs": [],
   "source": [
    "## Selecting only required Columns\n",
    "\n",
    "cleaned_stocks = stocks[[\"Ticker\", \"ParsedDate\",\"Close\", \"Volume\", \"Open\", \"High\", \"Low\"]]"
   ]
  },
  {
   "cell_type": "code",
   "execution_count": 24,
   "id": "f8a6729c-1d5c-4bcd-b28e-8b8687e260a9",
   "metadata": {},
   "outputs": [
    {
     "name": "stdout",
     "output_type": "stream",
     "text": [
      "root\n",
      " |-- Ticker: string (nullable = true)\n",
      " |-- ParsedDate: date (nullable = true)\n",
      " |-- Close: float (nullable = true)\n",
      " |-- Volume: integer (nullable = true)\n",
      " |-- Open: float (nullable = true)\n",
      " |-- High: float (nullable = true)\n",
      " |-- Low: float (nullable = true)\n",
      "\n"
     ]
    }
   ],
   "source": [
    "cleaned_stocks.printSchema()"
   ]
  },
  {
   "cell_type": "code",
   "execution_count": 25,
   "id": "afb1fb64-d022-450c-ba3a-a65867ab3adf",
   "metadata": {},
   "outputs": [
    {
     "name": "stderr",
     "output_type": "stream",
     "text": [
      "24/09/14 18:20:07 WARN SparkStringUtils: Truncated the string representation of a plan since it was too large. This behavior can be adjusted by setting 'spark.sql.debug.maxToStringFields'.\n"
     ]
    },
    {
     "name": "stdout",
     "output_type": "stream",
     "text": [
      "+-------+------------------+------------------+--------------------+------------------+------------------+\n",
      "|summary|             Close|              Open|              Volume|              High|               Low|\n",
      "+-------+------------------+------------------+--------------------+------------------+------------------+\n",
      "|  count|             15108|             15108|               15108|             15108|             15108|\n",
      "|   mean| 180.1256089860054|180.09656566181036|5.1868408793685466E7| 182.1253348687101| 177.9982781513109|\n",
      "| stddev|101.14891782168517|101.16125813324396| 5.496484129953463E7|101.96625521621728|100.26590135955209|\n",
      "|    min|             11.93|             12.07|              961133|             12.45|              11.8|\n",
      "|    max|            477.71|            479.22|           914080943|            479.98|            476.06|\n",
      "+-------+------------------+------------------+--------------------+------------------+------------------+\n",
      "\n"
     ]
    }
   ],
   "source": [
    "## Calculating basic statistics of the cleaned Stocks Data\n",
    "\n",
    "cleaned_stocks[[\"Close\", \"Open\", \"Volume\", \"High\", \"Low\"]].describe().show()"
   ]
  },
  {
   "cell_type": "markdown",
   "id": "aff88387-5572-47ae-bcd7-ad88524181d1",
   "metadata": {},
   "source": [
    "### 3.Basic Analysis"
   ]
  },
  {
   "cell_type": "code",
   "execution_count": 26,
   "id": "d2240799-d522-4b62-b66c-f43d9ae12da8",
   "metadata": {},
   "outputs": [
    {
     "name": "stdout",
     "output_type": "stream",
     "text": [
      "+------+-----------+------------+---------+--------+----------+\n",
      "|Ticker|max(Volume)|MaxOpenValue|max(High)|max(Low)|max(Close)|\n",
      "+------+-----------+------------+---------+--------+----------+\n",
      "| BRK-B|   22303500|      361.39|    362.1|  355.53|    359.57|\n",
      "|  MSFT|  110945000|      344.62|   349.67|   342.2|    343.11|\n",
      "|  META|  232316600|      381.68|   384.33|  378.81|    382.18|\n",
      "|  TSLA|  914080943|      411.47|    414.5|  405.67|    409.97|\n",
      "|  AAPL|  426884800|      182.63|   182.94|  179.12|    182.01|\n",
      "|  AMZN|  311345600|       187.2|   188.65|  184.84|    186.57|\n",
      "| GOOGL|  132345540|      151.25|   151.55|   148.9|    149.84|\n",
      "|  NVDA|  250920160|      405.95|   419.38|  399.49|    401.11|\n",
      "|   TSM|   60793170|      141.61|    145.0|  139.42|    140.66|\n",
      "|     V|   38379570|      250.05|   252.67|  248.22|    250.93|\n",
      "|   QQQ|  199448100|      405.57|   408.71|  402.58|    403.99|\n",
      "|   SPY|  392220700|      479.22|   479.98|  476.06|    477.71|\n",
      "+------+-----------+------------+---------+--------+----------+\n",
      "\n"
     ]
    }
   ],
   "source": [
    "# Calculate the maximum stock price for various stocks\n",
    "stocks.groupby([\"Ticker\"]).max().withColumnRenamed(\"max(Open)\", \"MaxOpenValue\").show(15)"
   ]
  },
  {
   "cell_type": "code",
   "execution_count": 31,
   "id": "06ab8fd3-2a16-4374-927c-827f09920531",
   "metadata": {},
   "outputs": [
    {
     "name": "stdout",
     "output_type": "stream",
     "text": [
      "+------+-------------+\n",
      "|Ticker|MaxCloseValue|\n",
      "+------+-------------+\n",
      "| BRK-B|       359.57|\n",
      "|  MSFT|       343.11|\n",
      "|  META|       382.18|\n",
      "|  TSLA|       409.97|\n",
      "|  AAPL|       182.01|\n",
      "|  AMZN|       186.57|\n",
      "| GOOGL|       149.84|\n",
      "|  NVDA|       401.11|\n",
      "|   TSM|       140.66|\n",
      "|     V|       250.93|\n",
      "|   QQQ|       403.99|\n",
      "|   SPY|       477.71|\n",
      "+------+-------------+\n",
      "\n"
     ]
    }
   ],
   "source": [
    "## Using inbuilt pyspark functions\n",
    "import pyspark.sql.functions as func\n",
    "cleaned_stocks.groupBy(\"Ticker\").agg(func.max(\"Close\").alias(\"MaxCloseValue\")).show()"
   ]
  },
  {
   "cell_type": "code",
   "execution_count": 32,
   "id": "7488bed9-d134-46dc-bce6-4d592a70ef9a",
   "metadata": {},
   "outputs": [
    {
     "name": "stdout",
     "output_type": "stream",
     "text": [
      "+------+-------------+------------+\n",
      "|Ticker|MaxCloseValue|SumOfVolumes|\n",
      "+------+-------------+------------+\n",
      "| BRK-B|       359.57|  5862401321|\n",
      "|  MSFT|       343.11| 37976660472|\n",
      "|  META|       382.18| 30148848043|\n",
      "|  TSLA|       409.97|171802975076|\n",
      "|  AAPL|       182.01|139310061360|\n",
      "|  AMZN|       186.57|104503287430|\n",
      "| GOOGL|       149.84| 43956560981|\n",
      "|  NVDA|       401.11| 58787218324|\n",
      "|   TSM|       140.66| 12506470104|\n",
      "|     V|       250.93| 10410997871|\n",
      "|   QQQ|       403.99| 60437153773|\n",
      "|   SPY|       477.71|107925285300|\n",
      "+------+-------------+------------+\n",
      "\n"
     ]
    }
   ],
   "source": [
    "cleaned_stocks.groupBy(\"Ticker\").agg(\n",
    "    func.max(\"Close\").alias(\"MaxCloseValue\"),\n",
    "    func.sum(\"Volume\").alias(\"SumOfVolumes\")\n",
    ").show(15)"
   ]
  },
  {
   "cell_type": "code",
   "execution_count": 34,
   "id": "61fe7f16-d37a-4df1-b913-1bbae490b580",
   "metadata": {},
   "outputs": [],
   "source": [
    "## extracting year, month, day of month, week of year and storing in the cleaned_stocks data\n",
    "\n",
    "cleaned_stocks = (cleaned_stocks.withColumn(\"Year\", func.year(cleaned_stocks.ParsedDate)))"
   ]
  },
  {
   "cell_type": "code",
   "execution_count": 35,
   "id": "01593091-fd28-4105-a5fa-5f07384d8f4d",
   "metadata": {},
   "outputs": [
    {
     "name": "stdout",
     "output_type": "stream",
     "text": [
      "+------+----------+------+-------+------+------+------+----+\n",
      "|Ticker|ParsedDate| Close| Volume|  Open|  High|   Low|Year|\n",
      "+------+----------+------+-------+------+------+------+----+\n",
      "| BRK-B|2023-05-31|321.08|6175417|321.12|322.41|319.39|2023|\n",
      "| BRK-B|2023-05-30|322.19|3232461|321.86|322.47| 319.0|2023|\n",
      "| BRK-B|2023-05-26| 320.6|3229873|320.44|322.63|319.67|2023|\n",
      "| BRK-B|2023-05-25|319.02|4251935|320.56|320.56|317.71|2023|\n",
      "| BRK-B|2023-05-24| 320.2|3075393|322.71| 323.0|319.56|2023|\n",
      "+------+----------+------+-------+------+------+------+----+\n",
      "only showing top 5 rows\n",
      "\n"
     ]
    }
   ],
   "source": [
    "cleaned_stocks.show(5)"
   ]
  },
  {
   "cell_type": "code",
   "execution_count": 36,
   "id": "e7128b9f-928b-4150-8038-f25af326cbfd",
   "metadata": {},
   "outputs": [],
   "source": [
    "cleaned_stocks = (cleaned_stocks.withColumn(\"Year\", func.year(cleaned_stocks.ParsedDate))\n",
    "                                .withColumn(\"Month\", func.month(cleaned_stocks.ParsedDate))\n",
    "                                .withColumn(\"Day\", func.dayofmonth(cleaned_stocks.ParsedDate))\n",
    "                                .withColumn(\"Week\", func.weekofyear(cleaned_stocks.ParsedDate))\n",
    "                 )"
   ]
  },
  {
   "cell_type": "code",
   "execution_count": 37,
   "id": "b80117c2-6c91-4fe3-b21f-f5a28a1ac3a5",
   "metadata": {},
   "outputs": [
    {
     "name": "stdout",
     "output_type": "stream",
     "text": [
      "+------+----------+------+-------+------+------+------+----+-----+---+----+\n",
      "|Ticker|ParsedDate| Close| Volume|  Open|  High|   Low|Year|Month|Day|Week|\n",
      "+------+----------+------+-------+------+------+------+----+-----+---+----+\n",
      "| BRK-B|2023-05-31|321.08|6175417|321.12|322.41|319.39|2023|    5| 31|  22|\n",
      "| BRK-B|2023-05-30|322.19|3232461|321.86|322.47| 319.0|2023|    5| 30|  22|\n",
      "| BRK-B|2023-05-26| 320.6|3229873|320.44|322.63|319.67|2023|    5| 26|  21|\n",
      "| BRK-B|2023-05-25|319.02|4251935|320.56|320.56|317.71|2023|    5| 25|  21|\n",
      "| BRK-B|2023-05-24| 320.2|3075393|322.71| 323.0|319.56|2023|    5| 24|  21|\n",
      "+------+----------+------+-------+------+------+------+----+-----+---+----+\n",
      "only showing top 5 rows\n",
      "\n"
     ]
    }
   ],
   "source": [
    "cleaned_stocks.show(5)"
   ]
  },
  {
   "cell_type": "code",
   "execution_count": 58,
   "id": "d8ca49cb-74c2-4aa0-ab4e-7270e8e4dd81",
   "metadata": {},
   "outputs": [],
   "source": [
    "## Maximum and Minimum opening price of different stocks in every year\n",
    "\n",
    "yearlyOpening = cleaned_stocks.groupBy([\"Ticker\", \"Year\"]).agg(\n",
    "    func.max(\"Open\").alias(\"MaxOpeningYear\"),\n",
    "    func.min(\"Open\").alias(\"MinOpeningYear\"),\n",
    ")"
   ]
  },
  {
   "cell_type": "code",
   "execution_count": 59,
   "id": "9519adc8-9cf9-4d63-893f-068118ec1581",
   "metadata": {},
   "outputs": [],
   "source": [
    "## Maximum and Minimum opening price of different stocks in every month of an year\n",
    "\n",
    "monthlyOpening = cleaned_stocks.groupBy([\"Ticker\", \"Year\", \"Month\"]).agg(\n",
    "    func.max(\"Open\").alias(\"MaxOpeningMonth\"),\n",
    "    func.min(\"Open\").alias(\"MinOpeningMonth\"),\n",
    ")"
   ]
  },
  {
   "cell_type": "code",
   "execution_count": 60,
   "id": "fee735e1-b88e-4ba8-b38a-62385e043bed",
   "metadata": {},
   "outputs": [],
   "source": [
    "## Maximum and Minimum opening price of different stocks in every week of a month\n",
    "\n",
    "weeklyOpening = cleaned_stocks.groupBy([\"Ticker\", \"Year\", \"Week\"]).agg(\n",
    "    func.max(\"Open\").alias(\"MaxOpeningWeek\"),\n",
    "    func.min(\"Open\").alias(\"MinOpeningWeek\"),\n",
    ")"
   ]
  },
  {
   "cell_type": "code",
   "execution_count": 61,
   "id": "3ade4c4a-6a2c-4116-a84f-530a5b48c2df",
   "metadata": {},
   "outputs": [
    {
     "name": "stdout",
     "output_type": "stream",
     "text": [
      "+------+----+--------------+--------------+\n",
      "|Ticker|Year|MaxOpeningYear|MinOpeningYear|\n",
      "+------+----+--------------+--------------+\n",
      "| BRK-B|2023|         331.0|        294.68|\n",
      "|  MSFT|2019|        159.45|         99.55|\n",
      "|  MSFT|2021|        344.62|        212.17|\n",
      "| BRK-B|2018|         224.0|        185.43|\n",
      "|  MSFT|2020|        229.27|        137.01|\n",
      "| BRK-B|2021|        300.88|        228.21|\n",
      "|  MSFT|2018|        115.42|         95.14|\n",
      "| BRK-B|2020|        233.92|         165.3|\n",
      "|  MSFT|2023|        335.23|         223.0|\n",
      "| BRK-B|2019|        227.27|        194.78|\n",
      "|  MSFT|2022|        335.35|        217.55|\n",
      "| BRK-B|2022|        361.39|        260.58|\n",
      "|  META|2020|        300.16|        139.75|\n",
      "|  META|2021|        381.68|         247.9|\n",
      "|  TSLA|2019|          29.0|         12.07|\n",
      "|  META|2018|        215.72|         123.1|\n",
      "|  TSLA|2021|        411.47|        184.18|\n",
      "|  TSLA|2018|          25.0|         17.02|\n",
      "|  META|2022|        339.95|         90.08|\n",
      "|  META|2019|        208.67|        128.99|\n",
      "+------+----+--------------+--------------+\n",
      "only showing top 20 rows\n",
      "\n"
     ]
    }
   ],
   "source": [
    "yearlyOpening.show(20)"
   ]
  },
  {
   "cell_type": "code",
   "execution_count": 62,
   "id": "b30030d8-b051-419a-8c21-ca3fd4688586",
   "metadata": {},
   "outputs": [
    {
     "name": "stdout",
     "output_type": "stream",
     "text": [
      "+------+----+-----+---------------+---------------+\n",
      "|Ticker|Year|Month|MaxOpeningMonth|MinOpeningMonth|\n",
      "+------+----+-----+---------------+---------------+\n",
      "| BRK-B|2022|   10|         297.98|         260.58|\n",
      "| BRK-B|2018|    9|         222.13|         209.21|\n",
      "|  MSFT|2022|    6|          275.2|         243.86|\n",
      "|  MSFT|2021|    2|         245.03|         230.01|\n",
      "|  MSFT|2020|    1|         174.05|         157.08|\n",
      "| BRK-B|2021|   10|         290.85|         273.02|\n",
      "| BRK-B|2020|   10|         216.74|         200.03|\n",
      "|  MSFT|2019|    6|         137.45|         121.28|\n",
      "|  MSFT|2022|   10|         247.93|         219.85|\n",
      "| BRK-B|2019|    9|         212.24|         201.19|\n",
      "| BRK-B|2021|    6|         292.91|          275.0|\n",
      "|  MSFT|2020|   12|         226.31|         210.05|\n",
      "|  MSFT|2019|   10|          144.9|         134.95|\n",
      "| BRK-B|2022|   11|         317.52|         286.02|\n",
      "| BRK-B|2022|    7|         297.42|          272.5|\n",
      "|  MSFT|2023|    2|          273.8|          248.0|\n",
      "|  MSFT|2021|    1|          238.0|         212.17|\n",
      "| BRK-B|2022|    6|          316.0|         267.38|\n",
      "| BRK-B|2020|    8|         218.62|         197.28|\n",
      "|  MSFT|2022|   12|         261.69|         235.65|\n",
      "+------+----+-----+---------------+---------------+\n",
      "only showing top 20 rows\n",
      "\n"
     ]
    }
   ],
   "source": [
    "monthlyOpening.show(20)"
   ]
  },
  {
   "cell_type": "code",
   "execution_count": 63,
   "id": "6bc641b4-be94-4921-8c0a-947fdbeecc16",
   "metadata": {},
   "outputs": [
    {
     "name": "stdout",
     "output_type": "stream",
     "text": [
      "+------+----+----+--------------+--------------+\n",
      "|Ticker|Year|Week|MaxOpeningWeek|MinOpeningWeek|\n",
      "+------+----+----+--------------+--------------+\n",
      "| BRK-B|2022|  14|         352.0|        341.17|\n",
      "| BRK-B|2022|  10|        326.59|        322.49|\n",
      "| BRK-B|2021|  14|        264.22|        260.02|\n",
      "| BRK-B|2018|  48|        217.23|         209.3|\n",
      "|  MSFT|2022|   6|        309.87|        301.25|\n",
      "|  MSFT|2021|   2|        218.47|        213.52|\n",
      "| BRK-B|2020|  19|        180.05|         173.4|\n",
      "|  MSFT|2020|   1|        158.78|        158.32|\n",
      "| BRK-B|2021|  32|        291.81|        287.01|\n",
      "| BRK-B|2021|  10|        264.22|         255.6|\n",
      "| BRK-B|2020|  10|        217.39|        203.48|\n",
      "| BRK-B|2020|  28|         183.1|        178.26|\n",
      "|  MSFT|2021|  41|        302.34|        292.92|\n",
      "|  MSFT|2020|  19|        184.98|        174.49|\n",
      "| BRK-B|2019|  30|        208.37|        205.34|\n",
      "|  MSFT|2019|  43|        139.39|        136.88|\n",
      "|  MSFT|2021|  44|        338.51|        330.31|\n",
      "|  MSFT|2019|   6|         107.0|        102.87|\n",
      "|  MSFT|2022|  10|        288.53|         277.8|\n",
      "| BRK-B|2019|  23|        204.95|        197.62|\n",
      "+------+----+----+--------------+--------------+\n",
      "only showing top 20 rows\n",
      "\n"
     ]
    }
   ],
   "source": [
    "weeklyOpening.show(20)"
   ]
  },
  {
   "cell_type": "code",
   "execution_count": 71,
   "id": "e850db74-be9d-4657-847c-37533227b44c",
   "metadata": {},
   "outputs": [
    {
     "ename": "TypeError",
     "evalue": "type Column doesn't define __round__ method",
     "output_type": "error",
     "traceback": [
      "\u001b[0;31m---------------------------------------------------------------------------\u001b[0m",
      "\u001b[0;31mTypeError\u001b[0m                                 Traceback (most recent call last)",
      "Cell \u001b[0;32mIn[71], line 1\u001b[0m\n\u001b[0;32m----> 1\u001b[0m weeklyOpening\u001b[38;5;241m.\u001b[39mwithColumn(\u001b[38;5;124m'\u001b[39m\u001b[38;5;124mSpread\u001b[39m\u001b[38;5;124m'\u001b[39m, \u001b[38;5;28;43mround\u001b[39;49m\u001b[43m(\u001b[49m\u001b[43mweeklyOpening\u001b[49m\u001b[43m[\u001b[49m\u001b[38;5;124;43m'\u001b[39;49m\u001b[38;5;124;43mMaxOpeningWeek\u001b[39;49m\u001b[38;5;124;43m'\u001b[39;49m\u001b[43m]\u001b[49m\u001b[43m \u001b[49m\u001b[38;5;241;43m-\u001b[39;49m\u001b[43m \u001b[49m\u001b[43mweeklyOpening\u001b[49m\u001b[43m[\u001b[49m\u001b[38;5;124;43m'\u001b[39;49m\u001b[38;5;124;43mMinOpeningWeek\u001b[39;49m\u001b[38;5;124;43m'\u001b[39;49m\u001b[43m]\u001b[49m\u001b[43m,\u001b[49m\u001b[43m \u001b[49m\u001b[38;5;241;43m2\u001b[39;49m\u001b[43m)\u001b[49m)\u001b[38;5;241m.\u001b[39mshow()\n",
      "\u001b[0;31mTypeError\u001b[0m: type Column doesn't define __round__ method"
     ]
    }
   ],
   "source": [
    "weeklyOpening.withColumn('Spread', round(weeklyOpening['MaxOpeningWeek'] - weeklyOpening['MinOpeningWeek'], 2)).show()"
   ]
  },
  {
   "cell_type": "code",
   "execution_count": null,
   "id": "e9144ff7-4a41-47e9-ac5e-b065e052369d",
   "metadata": {},
   "outputs": [],
   "source": []
  }
 ],
 "metadata": {
  "kernelspec": {
   "display_name": "Python 3 (ipykernel)",
   "language": "python",
   "name": "python3"
  },
  "language_info": {
   "codemirror_mode": {
    "name": "ipython",
    "version": 3
   },
   "file_extension": ".py",
   "mimetype": "text/x-python",
   "name": "python",
   "nbconvert_exporter": "python",
   "pygments_lexer": "ipython3",
   "version": "3.9.6"
  }
 },
 "nbformat": 4,
 "nbformat_minor": 5
}
